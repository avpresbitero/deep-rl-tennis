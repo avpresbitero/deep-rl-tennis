{
 "cells": [
  {
   "cell_type": "markdown",
   "source": [
    "# DeepRLTennis: Collaboration and Competition\n",
    "\n",
    "---\n",
    "\n",
    "You are welcome to use this coding environment to train your agent for the project.  Follow the instructions below to get started!\n",
    "\n",
    "In this notebook, you will learn how to use the Unity ML-Agents environment for the third project of the Deep Reinforcement Learning Nanodegree program.\n",
    "\n",
    "## 1. Start the Environment\n",
    "We begin by importing the necessary packages. If the code cell below returns an error, please revisit the project instructions to double-check that you have installed Unity ML-Agents and NumPy."
   ],
   "metadata": {}
  },
  {
   "cell_type": "code",
   "execution_count": null,
   "source": [
    "from unityagents import UnityEnvironment\r\n",
    "import numpy as np"
   ],
   "outputs": [],
   "metadata": {}
  },
  {
   "cell_type": "markdown",
   "source": [
    "Next, we will start the environment! Before running the code cell below, change the file_name parameter to match the location of the Unity environment that you downloaded.\n",
    "\n",
    "```\n",
    "- Mac: \"path/to/Tennis.app\"\n",
    "- Windows (x86): \"path/to/Tennis_Windows_x86/Tennis.exe\"\n",
    "- Windows (x86_64): \"path/to/Tennis_Windows_x86_64/Tennis.exe\"\n",
    "- Linux (x86): \"path/to/Tennis_Linux/Tennis.x86\"\n",
    "- Linux (x86_64): \"path/to/Tennis_Linux/Tennis.x86_64\"\n",
    "- Linux (x86, headless): \"path/to/Tennis_Linux_NoVis/Tennis.x86\"\n",
    "- Linux (x86_64, headless): \"path/to/Tennis_Linux_NoVis/Tennis.x86_64\"\n",
    "```\n",
    "\n",
    "For instance, if you are using a Mac, then you downloaded Tennis.app. If this file is in the same folder as the notebook, then the line below should appear as follows:\n",
    "\n",
    "```\n",
    "env = UnityEnvironment(file_name=\"Tennis.app\")\n",
    "```"
   ],
   "metadata": {}
  },
  {
   "cell_type": "code",
   "execution_count": null,
   "source": [
    "env = UnityEnvironment(file_name=\"Tennis_Windows_x86_64/Tennis\")"
   ],
   "outputs": [],
   "metadata": {}
  },
  {
   "cell_type": "markdown",
   "source": [
    "Environments contain brains which are responsible for deciding the actions of their associated agents. Here we check for the first brain available, and set it as the default brain we will be controlling from Python."
   ],
   "metadata": {}
  },
  {
   "cell_type": "code",
   "execution_count": null,
   "source": [
    "# get the default brain\r\n",
    "brain_name = env.brain_names[0]\r\n",
    "brain = env.brains[brain_name]"
   ],
   "outputs": [],
   "metadata": {}
  },
  {
   "cell_type": "markdown",
   "source": [
    "## 2. Examine the State and Action Spaces¶\n",
    "\n",
    "In this environment, two agents control rackets to bounce a ball over a net. If an agent hits the ball over the net, it receives a reward of +0.1. If an agent lets a ball hit the ground or hits the ball out of bounds, it receives a reward of -0.01. Thus, the goal of each agent is to keep the ball in play.\n",
    "\n",
    "The observation space consists of 8 variables corresponding to the position and velocity of the ball and racket. Two continuous actions are available, corresponding to movement toward (or away from) the net, and jumping.\n",
    "\n",
    "Run the code cell below to print some information about the environment.\n"
   ],
   "metadata": {}
  },
  {
   "cell_type": "code",
   "execution_count": null,
   "source": [
    "# reset the environment\r\n",
    "env_info = env.reset(train_mode=True)[brain_name]\r\n",
    "\r\n",
    "# number of agents \r\n",
    "num_agents = len(env_info.agents)\r\n",
    "print('Number of agents:', num_agents)\r\n",
    "\r\n",
    "# size of each action\r\n",
    "action_size = brain.vector_action_space_size\r\n",
    "print('Size of each action:', action_size)\r\n",
    "\r\n",
    "# examine the state space \r\n",
    "states = env_info.vector_observations\r\n",
    "state_size = states.shape[1]\r\n",
    "print('There are {} agents. Each observes a state with length: {}'.format(states.shape[0], state_size))\r\n",
    "print('The state for the first agent looks like:', states[0])"
   ],
   "outputs": [],
   "metadata": {}
  },
  {
   "cell_type": "markdown",
   "source": [
    "## 3. Take Random Actions in the Environment¶\n",
    "In the next code cell, you will learn how to use the Python API to control the agents and receive feedback from the environment.\n",
    "\n",
    "Once this cell is executed, you will watch the agents' performance, if they select actions at random with each time step. A window should pop up that allows you to observe the agents.\n",
    "\n",
    "Of course, as part of the project, you'll have to change the code so that the agents are able to use their experiences to gradually choose better actions when interacting with the environment!"
   ],
   "metadata": {}
  },
  {
   "cell_type": "code",
   "execution_count": null,
   "source": [
    "for i in range(1, 6):                                      # play game for 5 episodes\r\n",
    "    env_info = env.reset(train_mode=False)[brain_name]     # reset the environment    \r\n",
    "    states = env_info.vector_observations                  # get the current state (for each agent)\r\n",
    "    scores = np.zeros(num_agents)                          # initialize the score (for each agent)\r\n",
    "    while True:\r\n",
    "        actions = np.random.randn(num_agents, action_size) # select an action (for each agent)\r\n",
    "        actions = np.clip(actions, -1, 1)                  # all actions between -1 and 1\r\n",
    "        env_info = env.step(actions)[brain_name]           # send all actions to tne environment\r\n",
    "        next_states = env_info.vector_observations         # get next state (for each agent)\r\n",
    "        rewards = env_info.rewards                         # get reward (for each agent)\r\n",
    "        dones = env_info.local_done                        # see if episode finished\r\n",
    "        scores += env_info.rewards                         # update the score (for each agent)\r\n",
    "        states = next_states                               # roll over states to next time step\r\n",
    "        if np.any(dones):                                  # exit loop if episode finished\r\n",
    "            break\r\n",
    "    print('Score (max over agents) from episode {}: {}'.format(i, np.max(scores)))"
   ],
   "outputs": [],
   "metadata": {}
  },
  {
   "cell_type": "markdown",
   "source": [
    "When finished, you can close the environment.\n"
   ],
   "metadata": {}
  },
  {
   "cell_type": "code",
   "execution_count": null,
   "source": [
    "env.close()"
   ],
   "outputs": [],
   "metadata": {}
  },
  {
   "cell_type": "markdown",
   "source": [
    "\n",
    "## 4. It's Your Turn!\n",
    "Now it's your turn to train your own agent to solve the environment! When training the environment, set train_mode=True, so that the line for resetting the environment looks like the following:\n",
    "\n",
    "```\n",
    "env_info = env.reset(train_mode=True)[brain_name]\n",
    "```"
   ],
   "metadata": {}
  },
  {
   "cell_type": "markdown",
   "source": [
    "# Multi-Agent Deep Deterministic Plicy Gradient (MADDPG)\n",
    "### 1. Import Necessary Packages"
   ],
   "metadata": {}
  },
  {
   "cell_type": "code",
   "execution_count": 1,
   "source": [
    "import random\r\n",
    "import torch\r\n",
    "import os\r\n",
    "import numpy as np\r\n",
    "import time\r\n",
    "import matplotlib.pyplot as plt\r\n",
    "\r\n",
    "from collections import deque\r\n",
    "\r\n",
    "# Set plotting options\r\n",
    "%matplotlib inline\r\n",
    "\r\n",
    "# Hide Matplotlib deprecate warnings\r\n",
    "import warnings\r\n",
    "warnings.filterwarnings(\"ignore\")"
   ],
   "outputs": [],
   "metadata": {}
  },
  {
   "cell_type": "markdown",
   "source": [
    "### 2. Instantiate Agent and Environment"
   ],
   "metadata": {}
  },
  {
   "cell_type": "code",
   "execution_count": 2,
   "source": [
    "from unityagents import UnityEnvironment\r\n",
    "from ddpg_agent import Agent\r\n",
    "\r\n",
    "import numpy as np\r\n",
    "\r\n",
    "# Load a single agent of the environment\r\n",
    "env = UnityEnvironment(file_name=\"Tennis_Windows_x86_64/Tennis\")\r\n",
    "\r\n",
    "# Get the default brain\r\n",
    "brain_name = env.brain_names[0]\r\n",
    "brain = env.brains[brain_name]"
   ],
   "outputs": [
    {
     "output_type": "stream",
     "name": "stderr",
     "text": [
      "INFO:unityagents:\n",
      "'Academy' started successfully!\n",
      "Unity Academy name: Academy\n",
      "        Number of Brains: 1\n",
      "        Number of External Brains : 1\n",
      "        Lesson number : 0\n",
      "        Reset Parameters :\n",
      "\t\t\n",
      "Unity brain name: TennisBrain\n",
      "        Number of Visual Observations (per agent): 0\n",
      "        Vector Observation space type: continuous\n",
      "        Vector Observation space size (per agent): 8\n",
      "        Number of stacked Vector Observation: 3\n",
      "        Vector Action space type: continuous\n",
      "        Vector Action space size (per agent): 2\n",
      "        Vector Action descriptions: , \n"
     ]
    }
   ],
   "metadata": {}
  },
  {
   "cell_type": "code",
   "execution_count": 3,
   "source": [
    "# Path to save the mdoels and collect the Tensorboard logs\r\n",
    "model_dir= os.getcwd()+\"/model_dir\"\r\n",
    "os.makedirs(model_dir, exist_ok=True)"
   ],
   "outputs": [],
   "metadata": {}
  },
  {
   "cell_type": "code",
   "execution_count": 4,
   "source": [
    "# Reset the environment    \r\n",
    "env_info = env.reset(train_mode=True)[brain_name]     \r\n",
    "\r\n",
    "# number of agents\r\n",
    "num_agents = len(env_info.agents)\r\n",
    "\r\n",
    "# size of each action\r\n",
    "ENV_ACTION_SIZE = brain.vector_action_space_size\r\n",
    "\r\n",
    "# size of the state space \r\n",
    "states = env_info.vector_observations  # Array of states for all agents in teh enviroonments\r\n",
    "ENV_STATE_SIZE = states.shape[1]\r\n",
    "\r\n",
    "print('There are {} agents. Each observes a state with length: {} and act within an action space of length: {}'.format(states.shape[0], \r\n",
    "                                                                                                                       ENV_STATE_SIZE, \r\n",
    "                                                                                                                       ENV_ACTION_SIZE))"
   ],
   "outputs": [
    {
     "output_type": "stream",
     "name": "stdout",
     "text": [
      "There are 2 agents. Each observes a state with length: 24 and act within an action space of length: 2\n"
     ]
    }
   ],
   "metadata": {}
  },
  {
   "cell_type": "markdown",
   "source": [
    "### 3. Train the model"
   ],
   "metadata": {}
  },
  {
   "cell_type": "code",
   "execution_count": 7,
   "source": [
    "from maddpg_agent import Maddpg\r\n",
    "from hyperparameter import *\r\n",
    "\r\n",
    "def train():\r\n",
    "    np.random.seed(SEED)\r\n",
    "    torch.manual_seed(SEED)\r\n",
    "\r\n",
    "    # Instantiate the MADDPG agents\r\n",
    "    maddpg = Maddpg(ENV_STATE_SIZE, ENV_ACTION_SIZE, num_agents, SEED)\r\n",
    "\r\n",
    "    # Monitor the score    \r\n",
    "    scores_deque = deque(maxlen=100)\r\n",
    "    all_scores = []\r\n",
    "    moving = []\r\n",
    "    \r\n",
    "    # Intialize amplitude OU noise (will decay during training)\r\n",
    "    noise = NOISE\r\n",
    "    \r\n",
    "    all_steps =0   # Monitor total number of steps performed\r\n",
    "    \r\n",
    "    # Training Loop\r\n",
    "    for i_episode in range(EPISODES+1):  \r\n",
    "             \r\n",
    "        env_info = env.reset(train_mode=True)[brain_name]          # reset the environment  \r\n",
    "        maddpg.reset()                                             # reset the agents \r\n",
    "            \r\n",
    "        states = env_info.vector_observations                      # get the current state for each agent \r\n",
    "        scores = np.zeros(num_agents)                              # initialize the score (for each agent)\r\n",
    "\r\n",
    "        for steps in range(STEPS):\r\n",
    "            \r\n",
    "            all_steps+=1\r\n",
    "\r\n",
    "            actions = maddpg.act(states, noise)                    # retrieve actions to performe for each agents \r\n",
    "            noise *= NOISE_REDUCTION                               # Decrease action noise\r\n",
    "            env_info = env.step(actions)[brain_name]               # send all actions to tne environment\r\n",
    "            next_states = env_info.vector_observations             # get next state for each agent\r\n",
    "            rewards = env_info.rewards                             # get reward (for each agent)\r\n",
    "            dones = env_info.local_done                            # see if episode finished\r\n",
    "            \r\n",
    "            # Save experience in replay memory, and use random sample from buffer to learn\r\n",
    "            maddpg.step(states, actions, rewards, next_states, dones, i_episode)  \r\n",
    "\r\n",
    "            scores += env_info.rewards                             # update the score (for each agent)\r\n",
    "            states = next_states                                   # roll over states to next time step\r\n",
    "            if np.any(dones):                                      # exit loop if episode finished\r\n",
    "                break\r\n",
    "        \r\n",
    "        # Save scores and compute average score over last 100 episodes       \r\n",
    "        episode_score  = np.max(scores)  # Consider the maximum score amongs all Agents\r\n",
    "        all_scores.append(episode_score)\r\n",
    "        scores_deque.append(episode_score)\r\n",
    "        avg_score = np.mean(scores_deque)\r\n",
    "        moving.append(avg_score)\r\n",
    "\r\n",
    "        # Display statistics \r\n",
    "        print('\\rEpisode {}\\tAverage Score: {:.2f}\\tEpisode score (max over agents): {:.2f}'.format(i_episode, avg_score, episode_score), end=\"\")\r\n",
    "        if i_episode>0 and i_episode % 100 == 0:\r\n",
    "            print('\\rEpisode {}\\tAverage Score: {:.2f} (nb of total steps={}   noise={:.4f})'.format(i_episode, avg_score, all_steps, noise))\r\n",
    "            maddpg.checkpoints()\r\n",
    "        \r\n",
    "        # Early stop\r\n",
    "        if (i_episode > 99) and (avg_score >=0.5):\r\n",
    "            print('\\rEnvironment solved in {} episodes with an Average Score of {:.2f}'.format(i_episode, avg_score))\r\n",
    "            maddpg.checkpoints()\r\n",
    "            return all_scores, moving\r\n",
    "\r\n",
    "    return all_scores, moving"
   ],
   "outputs": [],
   "metadata": {}
  },
  {
   "cell_type": "code",
   "execution_count": 9,
   "source": [
    "scores, moving = train()"
   ],
   "outputs": [
    {
     "output_type": "stream",
     "name": "stdout",
     "text": [
      "Episode 100\tAverage Score: 0.01 (nb of total steps=1545   noise=1.0000)\n",
      "Episode 200\tAverage Score: 0.02 (nb of total steps=3436   noise=1.0000)\n",
      "Episode 300\tAverage Score: 0.01 (nb of total steps=5105   noise=1.0000)\n",
      "Episode 400\tAverage Score: 0.00 (nb of total steps=6538   noise=1.0000)\n",
      "Episode 500\tAverage Score: 0.01 (nb of total steps=8087   noise=1.0000)\n",
      "Episode 600\tAverage Score: 0.03 (nb of total steps=10032   noise=1.0000)\n",
      "Episode 700\tAverage Score: 0.04 (nb of total steps=12267   noise=1.0000)\n",
      "Episode 800\tAverage Score: 0.05 (nb of total steps=14605   noise=1.0000)\n",
      "Episode 900\tAverage Score: 0.04 (nb of total steps=16739   noise=1.0000)\n",
      "Episode 1000\tAverage Score: 0.01 (nb of total steps=18337   noise=1.0000)\n",
      "Episode 1100\tAverage Score: 0.01 (nb of total steps=19871   noise=1.0000)\n",
      "Episode 1200\tAverage Score: 0.03 (nb of total steps=21805   noise=1.0000)\n",
      "Episode 1300\tAverage Score: 0.05 (nb of total steps=23965   noise=1.0000)\n",
      "Episode 1400\tAverage Score: 0.05 (nb of total steps=26386   noise=1.0000)\n",
      "Episode 1500\tAverage Score: 0.05 (nb of total steps=28814   noise=1.0000)\n",
      "Episode 1600\tAverage Score: 0.07 (nb of total steps=31630   noise=1.0000)\n",
      "Episode 1700\tAverage Score: 0.07 (nb of total steps=34589   noise=1.0000)\n",
      "Episode 1800\tAverage Score: 0.08 (nb of total steps=37717   noise=1.0000)\n",
      "Episode 1900\tAverage Score: 0.08 (nb of total steps=40603   noise=1.0000)\n",
      "Episode 2000\tAverage Score: 0.08 (nb of total steps=43568   noise=1.0000)\n",
      "Episode 2100\tAverage Score: 0.08 (nb of total steps=46602   noise=1.0000)\n",
      "Episode 2200\tAverage Score: 0.09 (nb of total steps=50175   noise=1.0000)\n",
      "Episode 2300\tAverage Score: 0.09 (nb of total steps=53914   noise=1.0000)\n",
      "Episode 2400\tAverage Score: 0.10 (nb of total steps=57805   noise=1.0000)\n",
      "Episode 2500\tAverage Score: 0.10 (nb of total steps=62212   noise=1.0000)\n",
      "Episode 2600\tAverage Score: 0.16 (nb of total steps=68811   noise=1.0000)\n",
      "Episode 2700\tAverage Score: 0.12 (nb of total steps=73869   noise=1.0000)\n",
      "Episode 2800\tAverage Score: 0.24 (nb of total steps=83410   noise=1.0000)\n",
      "Episode 2900\tAverage Score: 0.36 (nb of total steps=97645   noise=1.0000)\n",
      "Environment solved in 2928 episodes with an Average Score of 0.50 1.10\n"
     ]
    }
   ],
   "metadata": {}
  },
  {
   "cell_type": "markdown",
   "source": [
    "#### 3. Plot scores"
   ],
   "metadata": {}
  },
  {
   "cell_type": "code",
   "execution_count": 10,
   "source": [
    "ls = 16\r\n",
    "ts = 18\r\n",
    "\r\n",
    "# plot the scores and moving average\r\n",
    "fig, (ax1, ax2) = plt.subplots(1, 2, figsize=(16,6))\r\n",
    "\r\n",
    "ax1.plot(np.arange(len(scores)), scores)\r\n",
    "ax1.set_ylabel('Score', fontsize=ls)\r\n",
    "ax1.set_xlabel('Episode #', fontsize=ls)\r\n",
    "ax1.set_title(\"Scores\", fontsize=ts)\r\n",
    "\r\n",
    "ax2.axhline(y=0.5, xmin=0.0, xmax=1.0, color='r', linestyle='--', linewidth=0.7, alpha=0.9)\r\n",
    "ax2.plot(np.arange(len(moving)), moving)\r\n",
    "ax2.set_ylabel('Average Score', fontsize=ls)\r\n",
    "ax2.set_xlabel('Episode #', fontsize=ls)\r\n",
    "ax2.set_title(\"Moving Average Scores\", fontsize=ts)\r\n",
    "\r\n",
    "fig.savefig('images/mmpg_result.jpg', format='jpg')\r\n",
    "fig.tight_layout()\r\n",
    "\r\n",
    "plt.show()"
   ],
   "outputs": [
    {
     "output_type": "display_data",
     "data": {
      "image/png": "[encoded data removed]",
      "text/plain": [
       "<Figure size 1152x432 with 2 Axes>"
      ]
     },
     "metadata": {
      "needs_background": "light"
     }
    }
   ],
   "metadata": {
    "scrolled": false
   }
  },
  {
   "cell_type": "code",
   "execution_count": null,
   "source": [
    "env.close()"
   ],
   "outputs": [],
   "metadata": {}
  }
 ],
 "metadata": {
  "interpreter": {
   "hash": "da27380075e1ba67d4ee2df9ef86f2337c93492f93a82bdb709e3a850cd515a8"
  },
  "kernelspec": {
   "name": "python3",
   "display_name": "Python 3.6.13 64-bit ('drl': conda)"
  },
  "language_info": {
   "codemirror_mode": {
    "name": "ipython",
    "version": 3
   },
   "file_extension": ".py",
   "mimetype": "text/x-python",
   "name": "python",
   "nbconvert_exporter": "python",
   "pygments_lexer": "ipython3",
   "version": "3.6.13"
  }
 },
 "nbformat": 4,
 "nbformat_minor": 2
}